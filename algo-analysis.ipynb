{
 "cells": [
  {
   "cell_type": "code",
   "execution_count": 15,
   "id": "585c0a3e-8519-4972-98e6-7534bf2e90ec",
   "metadata": {},
   "outputs": [],
   "source": [
    "from datetime import datetime\n",
    "import json\n",
    "import os\n",
    "import subprocess\n",
    "\n",
    "from matplotlib import pyplot as plt\n",
    "# matplotlib configuration\n",
    "plt.rcParams[\"figure.figsize\"] = (8, 8)\n",
    "plt.rcParams[\"axes.labelsize\"] = 14\n",
    "plt.rcParams[\"axes.labelweight\"] = \"bold\"\n",
    "\n",
    "from solver._internal.config.config import required_modes as ALGORITHMS\n",
    "from solver._internal.utils.testutils import REAL_PUZZLES"
   ]
  },
  {
   "cell_type": "code",
   "execution_count": 2,
   "id": "8d1fe1c3-f9be-4ec9-a20c-cce88445805c",
   "metadata": {},
   "outputs": [],
   "source": [
    "class Puzzle:\n",
    "    def __init__(self, puzzle, min_num_steps):\n",
    "        self.puzzle        = puzzle\n",
    "        self.min_num_steps = min_num_steps\n",
    "\n",
    "class Solution:\n",
    "    def __init__(self, algorithm, puzzle, num_steps, num_expanded_states, elapsed_time):\n",
    "        self.algorithm           = algorithm\n",
    "        self.optimal             = puzzle.min_num_steps\n",
    "        self.actual              = num_steps\n",
    "        self.num_expanded_states = num_expanded_states\n",
    "        self.elapsed_time        = elapsed_time"
   ]
  },
  {
   "cell_type": "code",
   "execution_count": 12,
   "id": "01da442c-e326-47c0-a346-d3a80d3abc56",
   "metadata": {},
   "outputs": [],
   "source": [
    "def run_program_timed(algorithm, puzzle_entries):\n",
    "    before = datetime.now()\n",
    "    output = subprocess.run(['./TP1', algorithm, *[str(entry) for entry in puzzle_entries], 'PRINT_STATISTICS'], capture_output=True)\n",
    "    elapsed = datetime.now() - before\n",
    "    return output.stdout.decode('ascii'), elapsed\n",
    "\n",
    "def decode_program_output(output):\n",
    "    output_pieces = [piece for piece in output.strip().split('\\n') if piece != '']\n",
    "    num_steps_to_goal, json_num_expanded_states = output_pieces\n",
    "    num_expanded_states = json.loads(json_num_expanded_states)['num_expanded_states']\n",
    "    \n",
    "    if num_steps_to_goal == 'Solution not found.':\n",
    "        num_steps_to_goal = None\n",
    "    else:\n",
    "        num_steps_to_goal = int(num_steps_to_goal)\n",
    "\n",
    "    return num_steps_to_goal, num_expanded_states\n",
    "\n",
    "def compute_all_solutions():\n",
    "    solutions = []\n",
    "    for puzzle_idx in range(len(REAL_PUZZLES)):\n",
    "        puzzle = REAL_PUZZLES[puzzle_idx]\n",
    "\n",
    "        for algorithm in ALGORITHMS:\n",
    "            output, elapsed_time = run_program_timed(algorithm, puzzle)\n",
    "            num_steps_to_goal, num_expanded_states = decode_program_output(output)\n",
    "            solutions.append(Solution(algorithm, Puzzle(puzzle, puzzle_idx), num_steps_to_goal, num_expanded_states, elapsed_time))\n",
    "    return solutions\n",
    "\n",
    "def build_time_map(solutions):\n",
    "    time_map = {}\n",
    "    for solution in solutions:\n",
    "        algorithm = solution.algorithm\n",
    "        if algorithm not in time_map:\n",
    "            time_map[algorithm] = []\n",
    "        time_map[algorithm].append(round(solution.elapsed_time.microseconds / 10**6, 6))\n",
    "    return time_map\n",
    "\n",
    "def build_cost_map(solutions):\n",
    "    cost_map = {}\n",
    "    for solution in solutions:\n",
    "        algorithm = solution.algorithm\n",
    "        if algorithm not in cost_map:\n",
    "            cost_map[algorithm] = []\n",
    "        cost_map[algorithm].append(solution.num_expanded_states)\n",
    "    return cost_map\n",
    "\n",
    "def draw_and_save_solutions(times_map, cost_map, save_plot_figures=False, figure_out_dir=\"results/figures\"):\n",
    "    plt.figure()\n",
    "    plt.xlabel(\"Puzzle difficulty\")\n",
    "    plt.ylabel(\"Time elapsed\")\n",
    "    plt.title(f'Time performance comparison')\n",
    "    for algorithm in times_map:\n",
    "        y = times_map[algorithm]\n",
    "        x = list(range(len(y)))\n",
    "        plt.plot(x, y, label=algorithm, linewidth=3)\n",
    "        \n",
    "        plt.legend()\n",
    "        if save_plot_figures:\n",
    "            os.system(f\"mkdir -p {figure_out_dir}\")\n",
    "            plt.savefig(f\"{figure_out_dir}/perf_analysis_time.png\")\n",
    "            \n",
    "    plt.figure()\n",
    "    plt.xlabel(\"Puzzle difficulty\")\n",
    "    plt.ylabel(\"Number of expanded states\")\n",
    "    plt.title(f'Cost comparison')\n",
    "    for algorithm in times_map:\n",
    "        y = cost_map[algorithm]\n",
    "        x = list(range(len(y)))\n",
    "        plt.plot(x, y, label=algorithm, linewidth=3)\n",
    "        \n",
    "        plt.legend()\n",
    "        if save_plot_figures:\n",
    "            os.system(f\"mkdir -p {figure_out_dir}\")\n",
    "            plt.savefig(f\"{figure_out_dir}/perf_analysis_num_states.png\")"
   ]
  },
  {
   "cell_type": "code",
   "execution_count": 4,
   "id": "1e580cf3-a353-4333-9166-a0e600ecd73a",
   "metadata": {},
   "outputs": [],
   "source": [
    "solutions = compute_all_solutions()"
   ]
  },
  {
   "cell_type": "code",
   "execution_count": 14,
   "id": "42241b02-f6c3-47ce-a364-b04e010ba853",
   "metadata": {},
   "outputs": [
    {
     "ename": "NameError",
     "evalue": "name 'os' is not defined",
     "output_type": "error",
     "traceback": [
      "\u001b[0;31m---------------------------------------------------------------------------\u001b[0m",
      "\u001b[0;31mNameError\u001b[0m                                 Traceback (most recent call last)",
      "\u001b[0;32m/tmp/ipykernel_29355/1527474167.py\u001b[0m in \u001b[0;36m<module>\u001b[0;34m\u001b[0m\n\u001b[1;32m      1\u001b[0m \u001b[0mtimes_map\u001b[0m \u001b[0;34m=\u001b[0m \u001b[0mbuild_time_map\u001b[0m\u001b[0;34m(\u001b[0m\u001b[0msolutions\u001b[0m\u001b[0;34m)\u001b[0m\u001b[0;34m\u001b[0m\u001b[0;34m\u001b[0m\u001b[0m\n\u001b[1;32m      2\u001b[0m \u001b[0mnum_expanded_states_map\u001b[0m \u001b[0;34m=\u001b[0m \u001b[0mbuild_cost_map\u001b[0m\u001b[0;34m(\u001b[0m\u001b[0msolutions\u001b[0m\u001b[0;34m)\u001b[0m\u001b[0;34m\u001b[0m\u001b[0;34m\u001b[0m\u001b[0m\n\u001b[0;32m----> 3\u001b[0;31m \u001b[0mdraw_and_save_solutions\u001b[0m\u001b[0;34m(\u001b[0m\u001b[0mtimes_map\u001b[0m\u001b[0;34m,\u001b[0m \u001b[0mnum_expanded_states_map\u001b[0m\u001b[0;34m,\u001b[0m \u001b[0msave_plot_figures\u001b[0m\u001b[0;34m=\u001b[0m\u001b[0;32mTrue\u001b[0m\u001b[0;34m)\u001b[0m\u001b[0;34m\u001b[0m\u001b[0;34m\u001b[0m\u001b[0m\n\u001b[0m",
      "\u001b[0;32m/tmp/ipykernel_29355/61148430.py\u001b[0m in \u001b[0;36mdraw_and_save_solutions\u001b[0;34m(times_map, cost_map, save_plot_figures, figure_out_dir)\u001b[0m\n\u001b[1;32m     58\u001b[0m         \u001b[0mplt\u001b[0m\u001b[0;34m.\u001b[0m\u001b[0mlegend\u001b[0m\u001b[0;34m(\u001b[0m\u001b[0;34m)\u001b[0m\u001b[0;34m\u001b[0m\u001b[0;34m\u001b[0m\u001b[0m\n\u001b[1;32m     59\u001b[0m         \u001b[0;32mif\u001b[0m \u001b[0msave_plot_figures\u001b[0m\u001b[0;34m:\u001b[0m\u001b[0;34m\u001b[0m\u001b[0;34m\u001b[0m\u001b[0m\n\u001b[0;32m---> 60\u001b[0;31m             \u001b[0mos\u001b[0m\u001b[0;34m.\u001b[0m\u001b[0msystem\u001b[0m\u001b[0;34m(\u001b[0m\u001b[0;34mf\"mkdir -p {figure_out_dir}\"\u001b[0m\u001b[0;34m)\u001b[0m\u001b[0;34m\u001b[0m\u001b[0;34m\u001b[0m\u001b[0m\n\u001b[0m\u001b[1;32m     61\u001b[0m             \u001b[0mplt\u001b[0m\u001b[0;34m.\u001b[0m\u001b[0msavefig\u001b[0m\u001b[0;34m(\u001b[0m\u001b[0;34mf\"{figure_out_dir}/perf_analysis_time.png\"\u001b[0m\u001b[0;34m)\u001b[0m\u001b[0;34m\u001b[0m\u001b[0;34m\u001b[0m\u001b[0m\n\u001b[1;32m     62\u001b[0m \u001b[0;34m\u001b[0m\u001b[0m\n",
      "\u001b[0;31mNameError\u001b[0m: name 'os' is not defined"
     ]
    },
    {
     "data": {
      "image/png": "[encoded data removed]",
      "text/plain": [
       "<Figure size 576x576 with 1 Axes>"
      ]
     },
     "metadata": {
      "needs_background": "light"
     },
     "output_type": "display_data"
    }
   ],
   "source": [
    "times_map = build_time_map(solutions)\n",
    "num_expanded_states_map = build_cost_map(solutions)\n",
    "draw_and_save_solutions(times_map, num_expanded_states_map, save_plot_figures=True)"
   ]
  },
  {
   "cell_type": "code",
   "execution_count": null,
   "id": "f8b14ae2-56c0-4313-874a-60a655fb1d3f",
   "metadata": {},
   "outputs": [],
   "source": []
  },
  {
   "cell_type": "code",
   "execution_count": null,
   "id": "fabe3648-25e1-4cab-8c6e-a5da0d95ba0c",
   "metadata": {},
   "outputs": [],
   "source": []
  }
 ],
 "metadata": {
  "kernelspec": {
   "display_name": "Python 3 (ipykernel)",
   "language": "python",
   "name": "python3"
  },
  "language_info": {
   "codemirror_mode": {
    "name": "ipython",
    "version": 3
   },
   "file_extension": ".py",
   "mimetype": "text/x-python",
   "name": "python",
   "nbconvert_exporter": "python",
   "pygments_lexer": "ipython3",
   "version": "3.8.10"
  }
 },
 "nbformat": 4,
 "nbformat_minor": 5
}
