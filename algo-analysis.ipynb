{
 "cells": [
  {
   "cell_type": "code",
   "execution_count": 1,
   "id": "585c0a3e-8519-4972-98e6-7534bf2e90ec",
   "metadata": {},
   "outputs": [],
   "source": [
    "import subprocess\n",
    "from datetime import datetime"
   ]
  },
  {
   "cell_type": "code",
   "execution_count": 22,
   "id": "01da442c-e326-47c0-a346-d3a80d3abc56",
   "metadata": {},
   "outputs": [],
   "source": [
    "def run_program_timed(algorithm, puzzle_entries):\n",
    "    before = datetime.now()\n",
    "    output = subprocess.run(['./TP1', algorithm, *[str(entry) for entry in puzzle_entries], 'PRINT'], capture_output=True)\n",
    "    elapsed = datetime.now() - before\n",
    "    return output.stdout.decode('ascii'), elapsed"
   ]
  },
  {
   "cell_type": "code",
   "execution_count": 23,
   "id": "1e580cf3-a353-4333-9166-a0e600ecd73a",
   "metadata": {},
   "outputs": [
    {
     "data": {
      "text/plain": [
       "('1\\n\\n1 2 3 \\n4 5 6 \\n7 0 8 \\n\\n1 2 3 \\n4 5 6 \\n7 8 0 \\n\\n',\n",
       " datetime.timedelta(microseconds=29305))"
      ]
     },
     "execution_count": 23,
     "metadata": {},
     "output_type": "execute_result"
    }
   ],
   "source": [
    "run_program_timed('B', [1, 2, 3, 4, 5, 6, 7, 0, 8])"
   ]
  },
  {
   "cell_type": "code",
   "execution_count": null,
   "id": "42241b02-f6c3-47ce-a364-b04e010ba853",
   "metadata": {},
   "outputs": [],
   "source": []
  }
 ],
 "metadata": {
  "kernelspec": {
   "display_name": "Python 3 (ipykernel)",
   "language": "python",
   "name": "python3"
  },
  "language_info": {
   "codemirror_mode": {
    "name": "ipython",
    "version": 3
   },
   "file_extension": ".py",
   "mimetype": "text/x-python",
   "name": "python",
   "nbconvert_exporter": "python",
   "pygments_lexer": "ipython3",
   "version": "3.8.10"
  }
 },
 "nbformat": 4,
 "nbformat_minor": 5
}
